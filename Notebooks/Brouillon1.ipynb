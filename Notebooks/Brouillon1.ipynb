{
  "nbformat": 4,
  "nbformat_minor": 0,
  "metadata": {
    "colab": {
      "provenance": []
    },
    "kernelspec": {
      "name": "python3",
      "display_name": "Python 3"
    },
    "language_info": {
      "name": "python"
    }
  },
  "cells": [
    {
      "cell_type": "code",
      "source": [
        "#!pip install arch"
      ],
      "metadata": {
        "id": "QuE9mqzNSLYs"
      },
      "execution_count": 1,
      "outputs": []
    },
    {
      "cell_type": "code",
      "source": [
        "#!pip install statsforecast"
      ],
      "metadata": {
        "id": "AH7Lqx9gST4k"
      },
      "execution_count": 2,
      "outputs": []
    },
    {
      "cell_type": "code",
      "source": [
        "#!pip install StatsForecast"
      ],
      "metadata": {
        "id": "t9L0-Bi1Srp2"
      },
      "execution_count": 3,
      "outputs": []
    },
    {
      "cell_type": "code",
      "execution_count": 4,
      "metadata": {
        "id": "KNS-5AuFcVZa",
        "colab": {
          "base_uri": "https://localhost:8080/",
          "height": 70
        },
        "outputId": "892f2f41-7fa3-46e0-f449-2048aaa69712"
      },
      "outputs": [
        {
          "output_type": "execute_result",
          "data": {
            "text/plain": [
              "\"from arch import arch_model\\nfrom statsmodels.tsa.holtwinters import SimpleExpSmoothing\\nfrom statsmodels.tsa.forecasting.theta import ThetaModel\\nimport warnings\\nwarnings.filterwarnings('ignore')\\n#from statsforecast import StatsForecast\\n#from statsforecast.models import (\\n    AutoARIMA,\\n    HoltWinters,\\n    CrostonClassic as Croston,\\n    HistoricAverage,\\n    DynamicOptimizedTheta as DOT,\\n    SeasonalNaive\\n)\\nfrom math import sqrt\\nimport warnings\\nwarnings.filterwarnings('ignore')\""
            ],
            "application/vnd.google.colaboratory.intrinsic+json": {
              "type": "string"
            }
          },
          "metadata": {},
          "execution_count": 4
        }
      ],
      "source": [
        "import numpy as np\n",
        "import pandas as pd\n",
        "import seaborn as sns\n",
        "from matplotlib import rcParams\n",
        "from scipy.stats import norm, skew #for some statistics\n",
        "from scipy import stats\n",
        "from os import walk\n",
        "import matplotlib.pyplot as plt\n",
        "from statsmodels.graphics.gofplots import qqplot\n",
        "from pandas.plotting import lag_plot\n",
        "import statsmodels.api as sm\n",
        "from statsmodels.graphics.tsaplots import plot_acf\n",
        "from statsmodels.graphics.tsaplots import plot_pacf\n",
        "from statsmodels.tsa.ar_model import AR\n",
        "from statsmodels.tsa.arima_model import ARIMA\n",
        "from statsmodels.tsa.ar_model import ARResults\n",
        "from lightgbm import LGBMRegressor\n",
        "from sklearn.model_selection import train_test_split, TimeSeriesSplit, GridSearchCV\n",
        "from sklearn.metrics import r2_score,mean_squared_error\n",
        "from sklearn.ensemble import RandomForestRegressor\n",
        "from sklearn.tree import DecisionTreeRegressor\n",
        "from sklearn.linear_model import LogisticRegression\n",
        "from sklearn.metrics import mean_absolute_error\n",
        "from statsmodels.tsa.statespace.sarimax import SARIMAX\n",
        "from tqdm import tqdm_notebook\n",
        "from itertools import product\n",
        "\"\"\"from arch import arch_model\n",
        "from statsmodels.tsa.holtwinters import SimpleExpSmoothing\n",
        "from statsmodels.tsa.forecasting.theta import ThetaModel\n",
        "import warnings\n",
        "warnings.filterwarnings('ignore')\n",
        "#from statsforecast import StatsForecast\n",
        "#from statsforecast.models import (\n",
        "    AutoARIMA,\n",
        "    HoltWinters,\n",
        "    CrostonClassic as Croston,\n",
        "    HistoricAverage,\n",
        "    DynamicOptimizedTheta as DOT,\n",
        "    SeasonalNaive\n",
        ")\"\"\"\n",
        "from math import sqrt\n",
        "import warnings\n",
        "warnings.filterwarnings('ignore')"
      ]
    },
    {
      "cell_type": "code",
      "source": [
        "df = pd.read_excel('ORDER_RECIPE1.xls')\n",
        "df"
      ],
      "metadata": {
        "colab": {
          "base_uri": "https://localhost:8080/",
          "height": 444
        },
        "id": "3lDH63ELcWNx",
        "outputId": "3eba1410-aec3-450d-e4e1-fd166f2501a5"
      },
      "execution_count": 5,
      "outputs": [
        {
          "output_type": "execute_result",
          "data": {
            "text/plain": [
              "       ORDER_ID  COMPARTMENT_ID  ORDER_RECIPE_ID BAY_CODE API_CODE  \\\n",
              "0          8320            8342             8343      NaN      54B   \n",
              "1          8320            8344             8345      NaN      54B   \n",
              "2          8320            8346             8347      NaN      54B   \n",
              "3          8320            8348             8349  BAY_300      54B   \n",
              "4          8320            8350             8351      NaN      54B   \n",
              "...         ...             ...              ...      ...      ...   \n",
              "65530    389752          389780           390107  BAY_200      54B   \n",
              "65531    389752          389782           389783  BAY_200      54B   \n",
              "65532    389752          389782           390308  BAY_200      54B   \n",
              "65533    389786          389806           389807  BAY_400      54B   \n",
              "65534    389786          389806           389808  BAY_400      54B   \n",
              "\n",
              "      INJECTOR_PRESET_CODE  TARE_SCALE_INTERFACE_CODE TANK_CODE  \\\n",
              "0                      NaN                        NaN       NaN   \n",
              "1                      NaN                        NaN       NaN   \n",
              "2                      NaN                        NaN       NaN   \n",
              "3                      NaN                        NaN    TK-205   \n",
              "4                      NaN                        NaN       NaN   \n",
              "...                    ...                        ...       ...   \n",
              "65530                  NaN                        NaN    TK-205   \n",
              "65531                  NaN                        NaN    TK-205   \n",
              "65532                  NaN                        NaN    TK-205   \n",
              "65533                  NaN                        NaN    TK-205   \n",
              "65534              FIQ_401                        NaN    TK-100   \n",
              "\n",
              "      PRODUCT_GROUP_CODE INJECTOR_CODE  ... COMPARTMENT_CONTAINER_TYPE  \\\n",
              "0                    DSL           NaN  ...                        NaN   \n",
              "1                    DSL           NaN  ...                        NaN   \n",
              "2                    DSL           NaN  ...                        NaN   \n",
              "3                    DSL           NaN  ...                        1.0   \n",
              "4                    DSL           NaN  ...                        NaN   \n",
              "...                  ...           ...  ...                        ...   \n",
              "65530                DSL           NaN  ...                        1.0   \n",
              "65531                DSL           NaN  ...                        1.0   \n",
              "65532                DSL           NaN  ...                        1.0   \n",
              "65533                DSL           NaN  ...                        1.0   \n",
              "65534                ADD       INJ_401  ...                        1.0   \n",
              "\n",
              "       COMPARTMENT_NUMBER  PDXR_LOADING_REF  BLEND_CORRECTION_METHOD  \\\n",
              "0                     NaN               NaN                        0   \n",
              "1                     NaN               NaN                        0   \n",
              "2                     NaN               NaN                        0   \n",
              "3                     NaN               NaN                        0   \n",
              "4                     NaN               NaN                        0   \n",
              "...                   ...               ...                      ...   \n",
              "65530                 NaN               NaN                        0   \n",
              "65531                 NaN               NaN                        0   \n",
              "65532                 NaN               NaN                        0   \n",
              "65533                 NaN               NaN                        0   \n",
              "65534                 NaN               NaN                        0   \n",
              "\n",
              "       BLEND_CORRECTION_NET_VOLUME  TOTAL_BATCH_BLEND_NET_VOLUME  \\\n",
              "0                                0                             0   \n",
              "1                                0                             0   \n",
              "2                                0                             0   \n",
              "3                                0                             0   \n",
              "4                                0                             0   \n",
              "...                            ...                           ...   \n",
              "65530                            0                             0   \n",
              "65531                            0                             0   \n",
              "65532                            0                             0   \n",
              "65533                            0                             0   \n",
              "65534                            0                             0   \n",
              "\n",
              "       BLEND_CORRECTION_SOURCE  COMMODITY_GROUP  DERIVATION_STATUS  \\\n",
              "0                            0                2                  0   \n",
              "1                            0                2                  0   \n",
              "2                            0                2                  0   \n",
              "3                            0                2                  0   \n",
              "4                            0                2                  0   \n",
              "...                        ...              ...                ...   \n",
              "65530                        0                2                  0   \n",
              "65531                        0                2                  0   \n",
              "65532                        0                2                  0   \n",
              "65533                        0                2                  0   \n",
              "65534                        0                2                  0   \n",
              "\n",
              "       DERIVED_VALUES_ERROR  \n",
              "0                       NaN  \n",
              "1                       NaN  \n",
              "2                       NaN  \n",
              "3                       NaN  \n",
              "4                       NaN  \n",
              "...                     ...  \n",
              "65530                   NaN  \n",
              "65531                   NaN  \n",
              "65532                   NaN  \n",
              "65533                   NaN  \n",
              "65534                   NaN  \n",
              "\n",
              "[65535 rows x 102 columns]"
            ],
            "text/html": [
              "\n",
              "  <div id=\"df-a503a350-79e5-4a5a-b465-1b509a8c5481\" class=\"colab-df-container\">\n",
              "    <div>\n",
              "<style scoped>\n",
              "    .dataframe tbody tr th:only-of-type {\n",
              "        vertical-align: middle;\n",
              "    }\n",
              "\n",
              "    .dataframe tbody tr th {\n",
              "        vertical-align: top;\n",
              "    }\n",
              "\n",
              "    .dataframe thead th {\n",
              "        text-align: right;\n",
              "    }\n",
              "</style>\n",
              "<table border=\"1\" class=\"dataframe\">\n",
              "  <thead>\n",
              "    <tr style=\"text-align: right;\">\n",
              "      <th></th>\n",
              "      <th>ORDER_ID</th>\n",
              "      <th>COMPARTMENT_ID</th>\n",
              "      <th>ORDER_RECIPE_ID</th>\n",
              "      <th>BAY_CODE</th>\n",
              "      <th>API_CODE</th>\n",
              "      <th>INJECTOR_PRESET_CODE</th>\n",
              "      <th>TARE_SCALE_INTERFACE_CODE</th>\n",
              "      <th>TANK_CODE</th>\n",
              "      <th>PRODUCT_GROUP_CODE</th>\n",
              "      <th>INJECTOR_CODE</th>\n",
              "      <th>...</th>\n",
              "      <th>COMPARTMENT_CONTAINER_TYPE</th>\n",
              "      <th>COMPARTMENT_NUMBER</th>\n",
              "      <th>PDXR_LOADING_REF</th>\n",
              "      <th>BLEND_CORRECTION_METHOD</th>\n",
              "      <th>BLEND_CORRECTION_NET_VOLUME</th>\n",
              "      <th>TOTAL_BATCH_BLEND_NET_VOLUME</th>\n",
              "      <th>BLEND_CORRECTION_SOURCE</th>\n",
              "      <th>COMMODITY_GROUP</th>\n",
              "      <th>DERIVATION_STATUS</th>\n",
              "      <th>DERIVED_VALUES_ERROR</th>\n",
              "    </tr>\n",
              "  </thead>\n",
              "  <tbody>\n",
              "    <tr>\n",
              "      <th>0</th>\n",
              "      <td>8320</td>\n",
              "      <td>8342</td>\n",
              "      <td>8343</td>\n",
              "      <td>NaN</td>\n",
              "      <td>54B</td>\n",
              "      <td>NaN</td>\n",
              "      <td>NaN</td>\n",
              "      <td>NaN</td>\n",
              "      <td>DSL</td>\n",
              "      <td>NaN</td>\n",
              "      <td>...</td>\n",
              "      <td>NaN</td>\n",
              "      <td>NaN</td>\n",
              "      <td>NaN</td>\n",
              "      <td>0</td>\n",
              "      <td>0</td>\n",
              "      <td>0</td>\n",
              "      <td>0</td>\n",
              "      <td>2</td>\n",
              "      <td>0</td>\n",
              "      <td>NaN</td>\n",
              "    </tr>\n",
              "    <tr>\n",
              "      <th>1</th>\n",
              "      <td>8320</td>\n",
              "      <td>8344</td>\n",
              "      <td>8345</td>\n",
              "      <td>NaN</td>\n",
              "      <td>54B</td>\n",
              "      <td>NaN</td>\n",
              "      <td>NaN</td>\n",
              "      <td>NaN</td>\n",
              "      <td>DSL</td>\n",
              "      <td>NaN</td>\n",
              "      <td>...</td>\n",
              "      <td>NaN</td>\n",
              "      <td>NaN</td>\n",
              "      <td>NaN</td>\n",
              "      <td>0</td>\n",
              "      <td>0</td>\n",
              "      <td>0</td>\n",
              "      <td>0</td>\n",
              "      <td>2</td>\n",
              "      <td>0</td>\n",
              "      <td>NaN</td>\n",
              "    </tr>\n",
              "    <tr>\n",
              "      <th>2</th>\n",
              "      <td>8320</td>\n",
              "      <td>8346</td>\n",
              "      <td>8347</td>\n",
              "      <td>NaN</td>\n",
              "      <td>54B</td>\n",
              "      <td>NaN</td>\n",
              "      <td>NaN</td>\n",
              "      <td>NaN</td>\n",
              "      <td>DSL</td>\n",
              "      <td>NaN</td>\n",
              "      <td>...</td>\n",
              "      <td>NaN</td>\n",
              "      <td>NaN</td>\n",
              "      <td>NaN</td>\n",
              "      <td>0</td>\n",
              "      <td>0</td>\n",
              "      <td>0</td>\n",
              "      <td>0</td>\n",
              "      <td>2</td>\n",
              "      <td>0</td>\n",
              "      <td>NaN</td>\n",
              "    </tr>\n",
              "    <tr>\n",
              "      <th>3</th>\n",
              "      <td>8320</td>\n",
              "      <td>8348</td>\n",
              "      <td>8349</td>\n",
              "      <td>BAY_300</td>\n",
              "      <td>54B</td>\n",
              "      <td>NaN</td>\n",
              "      <td>NaN</td>\n",
              "      <td>TK-205</td>\n",
              "      <td>DSL</td>\n",
              "      <td>NaN</td>\n",
              "      <td>...</td>\n",
              "      <td>1.0</td>\n",
              "      <td>NaN</td>\n",
              "      <td>NaN</td>\n",
              "      <td>0</td>\n",
              "      <td>0</td>\n",
              "      <td>0</td>\n",
              "      <td>0</td>\n",
              "      <td>2</td>\n",
              "      <td>0</td>\n",
              "      <td>NaN</td>\n",
              "    </tr>\n",
              "    <tr>\n",
              "      <th>4</th>\n",
              "      <td>8320</td>\n",
              "      <td>8350</td>\n",
              "      <td>8351</td>\n",
              "      <td>NaN</td>\n",
              "      <td>54B</td>\n",
              "      <td>NaN</td>\n",
              "      <td>NaN</td>\n",
              "      <td>NaN</td>\n",
              "      <td>DSL</td>\n",
              "      <td>NaN</td>\n",
              "      <td>...</td>\n",
              "      <td>NaN</td>\n",
              "      <td>NaN</td>\n",
              "      <td>NaN</td>\n",
              "      <td>0</td>\n",
              "      <td>0</td>\n",
              "      <td>0</td>\n",
              "      <td>0</td>\n",
              "      <td>2</td>\n",
              "      <td>0</td>\n",
              "      <td>NaN</td>\n",
              "    </tr>\n",
              "    <tr>\n",
              "      <th>...</th>\n",
              "      <td>...</td>\n",
              "      <td>...</td>\n",
              "      <td>...</td>\n",
              "      <td>...</td>\n",
              "      <td>...</td>\n",
              "      <td>...</td>\n",
              "      <td>...</td>\n",
              "      <td>...</td>\n",
              "      <td>...</td>\n",
              "      <td>...</td>\n",
              "      <td>...</td>\n",
              "      <td>...</td>\n",
              "      <td>...</td>\n",
              "      <td>...</td>\n",
              "      <td>...</td>\n",
              "      <td>...</td>\n",
              "      <td>...</td>\n",
              "      <td>...</td>\n",
              "      <td>...</td>\n",
              "      <td>...</td>\n",
              "      <td>...</td>\n",
              "    </tr>\n",
              "    <tr>\n",
              "      <th>65530</th>\n",
              "      <td>389752</td>\n",
              "      <td>389780</td>\n",
              "      <td>390107</td>\n",
              "      <td>BAY_200</td>\n",
              "      <td>54B</td>\n",
              "      <td>NaN</td>\n",
              "      <td>NaN</td>\n",
              "      <td>TK-205</td>\n",
              "      <td>DSL</td>\n",
              "      <td>NaN</td>\n",
              "      <td>...</td>\n",
              "      <td>1.0</td>\n",
              "      <td>NaN</td>\n",
              "      <td>NaN</td>\n",
              "      <td>0</td>\n",
              "      <td>0</td>\n",
              "      <td>0</td>\n",
              "      <td>0</td>\n",
              "      <td>2</td>\n",
              "      <td>0</td>\n",
              "      <td>NaN</td>\n",
              "    </tr>\n",
              "    <tr>\n",
              "      <th>65531</th>\n",
              "      <td>389752</td>\n",
              "      <td>389782</td>\n",
              "      <td>389783</td>\n",
              "      <td>BAY_200</td>\n",
              "      <td>54B</td>\n",
              "      <td>NaN</td>\n",
              "      <td>NaN</td>\n",
              "      <td>TK-205</td>\n",
              "      <td>DSL</td>\n",
              "      <td>NaN</td>\n",
              "      <td>...</td>\n",
              "      <td>1.0</td>\n",
              "      <td>NaN</td>\n",
              "      <td>NaN</td>\n",
              "      <td>0</td>\n",
              "      <td>0</td>\n",
              "      <td>0</td>\n",
              "      <td>0</td>\n",
              "      <td>2</td>\n",
              "      <td>0</td>\n",
              "      <td>NaN</td>\n",
              "    </tr>\n",
              "    <tr>\n",
              "      <th>65532</th>\n",
              "      <td>389752</td>\n",
              "      <td>389782</td>\n",
              "      <td>390308</td>\n",
              "      <td>BAY_200</td>\n",
              "      <td>54B</td>\n",
              "      <td>NaN</td>\n",
              "      <td>NaN</td>\n",
              "      <td>TK-205</td>\n",
              "      <td>DSL</td>\n",
              "      <td>NaN</td>\n",
              "      <td>...</td>\n",
              "      <td>1.0</td>\n",
              "      <td>NaN</td>\n",
              "      <td>NaN</td>\n",
              "      <td>0</td>\n",
              "      <td>0</td>\n",
              "      <td>0</td>\n",
              "      <td>0</td>\n",
              "      <td>2</td>\n",
              "      <td>0</td>\n",
              "      <td>NaN</td>\n",
              "    </tr>\n",
              "    <tr>\n",
              "      <th>65533</th>\n",
              "      <td>389786</td>\n",
              "      <td>389806</td>\n",
              "      <td>389807</td>\n",
              "      <td>BAY_400</td>\n",
              "      <td>54B</td>\n",
              "      <td>NaN</td>\n",
              "      <td>NaN</td>\n",
              "      <td>TK-205</td>\n",
              "      <td>DSL</td>\n",
              "      <td>NaN</td>\n",
              "      <td>...</td>\n",
              "      <td>1.0</td>\n",
              "      <td>NaN</td>\n",
              "      <td>NaN</td>\n",
              "      <td>0</td>\n",
              "      <td>0</td>\n",
              "      <td>0</td>\n",
              "      <td>0</td>\n",
              "      <td>2</td>\n",
              "      <td>0</td>\n",
              "      <td>NaN</td>\n",
              "    </tr>\n",
              "    <tr>\n",
              "      <th>65534</th>\n",
              "      <td>389786</td>\n",
              "      <td>389806</td>\n",
              "      <td>389808</td>\n",
              "      <td>BAY_400</td>\n",
              "      <td>54B</td>\n",
              "      <td>FIQ_401</td>\n",
              "      <td>NaN</td>\n",
              "      <td>TK-100</td>\n",
              "      <td>ADD</td>\n",
              "      <td>INJ_401</td>\n",
              "      <td>...</td>\n",
              "      <td>1.0</td>\n",
              "      <td>NaN</td>\n",
              "      <td>NaN</td>\n",
              "      <td>0</td>\n",
              "      <td>0</td>\n",
              "      <td>0</td>\n",
              "      <td>0</td>\n",
              "      <td>2</td>\n",
              "      <td>0</td>\n",
              "      <td>NaN</td>\n",
              "    </tr>\n",
              "  </tbody>\n",
              "</table>\n",
              "<p>65535 rows × 102 columns</p>\n",
              "</div>\n",
              "    <div class=\"colab-df-buttons\">\n",
              "\n",
              "  <div class=\"colab-df-container\">\n",
              "    <button class=\"colab-df-convert\" onclick=\"convertToInteractive('df-a503a350-79e5-4a5a-b465-1b509a8c5481')\"\n",
              "            title=\"Convert this dataframe to an interactive table.\"\n",
              "            style=\"display:none;\">\n",
              "\n",
              "  <svg xmlns=\"http://www.w3.org/2000/svg\" height=\"24px\" viewBox=\"0 -960 960 960\">\n",
              "    <path d=\"M120-120v-720h720v720H120Zm60-500h600v-160H180v160Zm220 220h160v-160H400v160Zm0 220h160v-160H400v160ZM180-400h160v-160H180v160Zm440 0h160v-160H620v160ZM180-180h160v-160H180v160Zm440 0h160v-160H620v160Z\"/>\n",
              "  </svg>\n",
              "    </button>\n",
              "\n",
              "  <style>\n",
              "    .colab-df-container {\n",
              "      display:flex;\n",
              "      gap: 12px;\n",
              "    }\n",
              "\n",
              "    .colab-df-convert {\n",
              "      background-color: #E8F0FE;\n",
              "      border: none;\n",
              "      border-radius: 50%;\n",
              "      cursor: pointer;\n",
              "      display: none;\n",
              "      fill: #1967D2;\n",
              "      height: 32px;\n",
              "      padding: 0 0 0 0;\n",
              "      width: 32px;\n",
              "    }\n",
              "\n",
              "    .colab-df-convert:hover {\n",
              "      background-color: #E2EBFA;\n",
              "      box-shadow: 0px 1px 2px rgba(60, 64, 67, 0.3), 0px 1px 3px 1px rgba(60, 64, 67, 0.15);\n",
              "      fill: #174EA6;\n",
              "    }\n",
              "\n",
              "    .colab-df-buttons div {\n",
              "      margin-bottom: 4px;\n",
              "    }\n",
              "\n",
              "    [theme=dark] .colab-df-convert {\n",
              "      background-color: #3B4455;\n",
              "      fill: #D2E3FC;\n",
              "    }\n",
              "\n",
              "    [theme=dark] .colab-df-convert:hover {\n",
              "      background-color: #434B5C;\n",
              "      box-shadow: 0px 1px 3px 1px rgba(0, 0, 0, 0.15);\n",
              "      filter: drop-shadow(0px 1px 2px rgba(0, 0, 0, 0.3));\n",
              "      fill: #FFFFFF;\n",
              "    }\n",
              "  </style>\n",
              "\n",
              "    <script>\n",
              "      const buttonEl =\n",
              "        document.querySelector('#df-a503a350-79e5-4a5a-b465-1b509a8c5481 button.colab-df-convert');\n",
              "      buttonEl.style.display =\n",
              "        google.colab.kernel.accessAllowed ? 'block' : 'none';\n",
              "\n",
              "      async function convertToInteractive(key) {\n",
              "        const element = document.querySelector('#df-a503a350-79e5-4a5a-b465-1b509a8c5481');\n",
              "        const dataTable =\n",
              "          await google.colab.kernel.invokeFunction('convertToInteractive',\n",
              "                                                    [key], {});\n",
              "        if (!dataTable) return;\n",
              "\n",
              "        const docLinkHtml = 'Like what you see? Visit the ' +\n",
              "          '<a target=\"_blank\" href=https://colab.research.google.com/notebooks/data_table.ipynb>data table notebook</a>'\n",
              "          + ' to learn more about interactive tables.';\n",
              "        element.innerHTML = '';\n",
              "        dataTable['output_type'] = 'display_data';\n",
              "        await google.colab.output.renderOutput(dataTable, element);\n",
              "        const docLink = document.createElement('div');\n",
              "        docLink.innerHTML = docLinkHtml;\n",
              "        element.appendChild(docLink);\n",
              "      }\n",
              "    </script>\n",
              "  </div>\n",
              "\n",
              "\n",
              "<div id=\"df-ba82fd2b-a2f7-4bbf-bb23-6d42e18c438b\">\n",
              "  <button class=\"colab-df-quickchart\" onclick=\"quickchart('df-ba82fd2b-a2f7-4bbf-bb23-6d42e18c438b')\"\n",
              "            title=\"Suggest charts\"\n",
              "            style=\"display:none;\">\n",
              "\n",
              "<svg xmlns=\"http://www.w3.org/2000/svg\" height=\"24px\"viewBox=\"0 0 24 24\"\n",
              "     width=\"24px\">\n",
              "    <g>\n",
              "        <path d=\"M19 3H5c-1.1 0-2 .9-2 2v14c0 1.1.9 2 2 2h14c1.1 0 2-.9 2-2V5c0-1.1-.9-2-2-2zM9 17H7v-7h2v7zm4 0h-2V7h2v10zm4 0h-2v-4h2v4z\"/>\n",
              "    </g>\n",
              "</svg>\n",
              "  </button>\n",
              "\n",
              "<style>\n",
              "  .colab-df-quickchart {\n",
              "      --bg-color: #E8F0FE;\n",
              "      --fill-color: #1967D2;\n",
              "      --hover-bg-color: #E2EBFA;\n",
              "      --hover-fill-color: #174EA6;\n",
              "      --disabled-fill-color: #AAA;\n",
              "      --disabled-bg-color: #DDD;\n",
              "  }\n",
              "\n",
              "  [theme=dark] .colab-df-quickchart {\n",
              "      --bg-color: #3B4455;\n",
              "      --fill-color: #D2E3FC;\n",
              "      --hover-bg-color: #434B5C;\n",
              "      --hover-fill-color: #FFFFFF;\n",
              "      --disabled-bg-color: #3B4455;\n",
              "      --disabled-fill-color: #666;\n",
              "  }\n",
              "\n",
              "  .colab-df-quickchart {\n",
              "    background-color: var(--bg-color);\n",
              "    border: none;\n",
              "    border-radius: 50%;\n",
              "    cursor: pointer;\n",
              "    display: none;\n",
              "    fill: var(--fill-color);\n",
              "    height: 32px;\n",
              "    padding: 0;\n",
              "    width: 32px;\n",
              "  }\n",
              "\n",
              "  .colab-df-quickchart:hover {\n",
              "    background-color: var(--hover-bg-color);\n",
              "    box-shadow: 0 1px 2px rgba(60, 64, 67, 0.3), 0 1px 3px 1px rgba(60, 64, 67, 0.15);\n",
              "    fill: var(--button-hover-fill-color);\n",
              "  }\n",
              "\n",
              "  .colab-df-quickchart-complete:disabled,\n",
              "  .colab-df-quickchart-complete:disabled:hover {\n",
              "    background-color: var(--disabled-bg-color);\n",
              "    fill: var(--disabled-fill-color);\n",
              "    box-shadow: none;\n",
              "  }\n",
              "\n",
              "  .colab-df-spinner {\n",
              "    border: 2px solid var(--fill-color);\n",
              "    border-color: transparent;\n",
              "    border-bottom-color: var(--fill-color);\n",
              "    animation:\n",
              "      spin 1s steps(1) infinite;\n",
              "  }\n",
              "\n",
              "  @keyframes spin {\n",
              "    0% {\n",
              "      border-color: transparent;\n",
              "      border-bottom-color: var(--fill-color);\n",
              "      border-left-color: var(--fill-color);\n",
              "    }\n",
              "    20% {\n",
              "      border-color: transparent;\n",
              "      border-left-color: var(--fill-color);\n",
              "      border-top-color: var(--fill-color);\n",
              "    }\n",
              "    30% {\n",
              "      border-color: transparent;\n",
              "      border-left-color: var(--fill-color);\n",
              "      border-top-color: var(--fill-color);\n",
              "      border-right-color: var(--fill-color);\n",
              "    }\n",
              "    40% {\n",
              "      border-color: transparent;\n",
              "      border-right-color: var(--fill-color);\n",
              "      border-top-color: var(--fill-color);\n",
              "    }\n",
              "    60% {\n",
              "      border-color: transparent;\n",
              "      border-right-color: var(--fill-color);\n",
              "    }\n",
              "    80% {\n",
              "      border-color: transparent;\n",
              "      border-right-color: var(--fill-color);\n",
              "      border-bottom-color: var(--fill-color);\n",
              "    }\n",
              "    90% {\n",
              "      border-color: transparent;\n",
              "      border-bottom-color: var(--fill-color);\n",
              "    }\n",
              "  }\n",
              "</style>\n",
              "\n",
              "  <script>\n",
              "    async function quickchart(key) {\n",
              "      const quickchartButtonEl =\n",
              "        document.querySelector('#' + key + ' button');\n",
              "      quickchartButtonEl.disabled = true;  // To prevent multiple clicks.\n",
              "      quickchartButtonEl.classList.add('colab-df-spinner');\n",
              "      try {\n",
              "        const charts = await google.colab.kernel.invokeFunction(\n",
              "            'suggestCharts', [key], {});\n",
              "      } catch (error) {\n",
              "        console.error('Error during call to suggestCharts:', error);\n",
              "      }\n",
              "      quickchartButtonEl.classList.remove('colab-df-spinner');\n",
              "      quickchartButtonEl.classList.add('colab-df-quickchart-complete');\n",
              "    }\n",
              "    (() => {\n",
              "      let quickchartButtonEl =\n",
              "        document.querySelector('#df-ba82fd2b-a2f7-4bbf-bb23-6d42e18c438b button');\n",
              "      quickchartButtonEl.style.display =\n",
              "        google.colab.kernel.accessAllowed ? 'block' : 'none';\n",
              "    })();\n",
              "  </script>\n",
              "</div>\n",
              "\n",
              "  <div id=\"id_383283a3-f237-4653-8368-f282a2eccf99\">\n",
              "    <style>\n",
              "      .colab-df-generate {\n",
              "        background-color: #E8F0FE;\n",
              "        border: none;\n",
              "        border-radius: 50%;\n",
              "        cursor: pointer;\n",
              "        display: none;\n",
              "        fill: #1967D2;\n",
              "        height: 32px;\n",
              "        padding: 0 0 0 0;\n",
              "        width: 32px;\n",
              "      }\n",
              "\n",
              "      .colab-df-generate:hover {\n",
              "        background-color: #E2EBFA;\n",
              "        box-shadow: 0px 1px 2px rgba(60, 64, 67, 0.3), 0px 1px 3px 1px rgba(60, 64, 67, 0.15);\n",
              "        fill: #174EA6;\n",
              "      }\n",
              "\n",
              "      [theme=dark] .colab-df-generate {\n",
              "        background-color: #3B4455;\n",
              "        fill: #D2E3FC;\n",
              "      }\n",
              "\n",
              "      [theme=dark] .colab-df-generate:hover {\n",
              "        background-color: #434B5C;\n",
              "        box-shadow: 0px 1px 3px 1px rgba(0, 0, 0, 0.15);\n",
              "        filter: drop-shadow(0px 1px 2px rgba(0, 0, 0, 0.3));\n",
              "        fill: #FFFFFF;\n",
              "      }\n",
              "    </style>\n",
              "    <button class=\"colab-df-generate\" onclick=\"generateWithVariable('df')\"\n",
              "            title=\"Generate code using this dataframe.\"\n",
              "            style=\"display:none;\">\n",
              "\n",
              "  <svg xmlns=\"http://www.w3.org/2000/svg\" height=\"24px\"viewBox=\"0 0 24 24\"\n",
              "       width=\"24px\">\n",
              "    <path d=\"M7,19H8.4L18.45,9,17,7.55,7,17.6ZM5,21V16.75L18.45,3.32a2,2,0,0,1,2.83,0l1.4,1.43a1.91,1.91,0,0,1,.58,1.4,1.91,1.91,0,0,1-.58,1.4L9.25,21ZM18.45,9,17,7.55Zm-12,3A5.31,5.31,0,0,0,4.9,8.1,5.31,5.31,0,0,0,1,6.5,5.31,5.31,0,0,0,4.9,4.9,5.31,5.31,0,0,0,6.5,1,5.31,5.31,0,0,0,8.1,4.9,5.31,5.31,0,0,0,12,6.5,5.46,5.46,0,0,0,6.5,12Z\"/>\n",
              "  </svg>\n",
              "    </button>\n",
              "    <script>\n",
              "      (() => {\n",
              "      const buttonEl =\n",
              "        document.querySelector('#id_383283a3-f237-4653-8368-f282a2eccf99 button.colab-df-generate');\n",
              "      buttonEl.style.display =\n",
              "        google.colab.kernel.accessAllowed ? 'block' : 'none';\n",
              "\n",
              "      buttonEl.onclick = () => {\n",
              "        google.colab.notebook.generateWithVariable('df');\n",
              "      }\n",
              "      })();\n",
              "    </script>\n",
              "  </div>\n",
              "\n",
              "    </div>\n",
              "  </div>\n"
            ],
            "application/vnd.google.colaboratory.intrinsic+json": {
              "type": "dataframe",
              "variable_name": "df"
            }
          },
          "metadata": {},
          "execution_count": 5
        }
      ]
    },
    {
      "cell_type": "code",
      "source": [
        "df['START_TIME'].min() , df['END_TIME'].min()"
      ],
      "metadata": {
        "colab": {
          "base_uri": "https://localhost:8080/"
        },
        "id": "m9wtgWxpcaU4",
        "outputId": "2f45f736-35f3-412a-e00a-dd2317ef73e5"
      },
      "execution_count": 6,
      "outputs": [
        {
          "output_type": "execute_result",
          "data": {
            "text/plain": [
              "(Timestamp('2021-09-24 14:21:46'), Timestamp('2021-09-24 14:23:10'))"
            ]
          },
          "metadata": {},
          "execution_count": 6
        }
      ]
    },
    {
      "cell_type": "code",
      "source": [
        "df['START_TIME'].min() , df['END_TIME'].min()"
      ],
      "metadata": {
        "colab": {
          "base_uri": "https://localhost:8080/"
        },
        "id": "I57flO65caXZ",
        "outputId": "80c88cf7-9f79-4cc6-d34d-086952144412"
      },
      "execution_count": 7,
      "outputs": [
        {
          "output_type": "execute_result",
          "data": {
            "text/plain": [
              "(Timestamp('2021-09-24 14:21:46'), Timestamp('2021-09-24 14:23:10'))"
            ]
          },
          "metadata": {},
          "execution_count": 7
        }
      ]
    },
    {
      "cell_type": "code",
      "source": [
        "fassakh=df.isnull().sum()\n",
        "print(fassakh[fassakh > 0])"
      ],
      "metadata": {
        "colab": {
          "base_uri": "https://localhost:8080/"
        },
        "id": "95sxrL8McaZ0",
        "outputId": "5aeda6ab-8648-4b4b-a4ce-67475de017e3"
      },
      "execution_count": 8,
      "outputs": [
        {
          "output_type": "stream",
          "name": "stdout",
          "text": [
            "BAY_CODE                           3208\n",
            "INJECTOR_PRESET_CODE              49626\n",
            "TARE_SCALE_INTERFACE_CODE         65535\n",
            "TANK_CODE                          3208\n",
            "INJECTOR_CODE                     49626\n",
            "METER_CODE                        19117\n",
            "SHOST_SI_HOST_PRODUCT_NUMBER      65535\n",
            "THOST_TI_HOST_PRODUCT_NUMBER      65535\n",
            "LAST_USER_NAME                    65530\n",
            "LAST_MODIFIED                     65530\n",
            "START_TIME                           72\n",
            "END_TIME                             72\n",
            "HOST_PRODUCT_CODE                 65535\n",
            "HOST_PRODUCT_NAME                 65535\n",
            "FINAL_SCALE_INTERFACE_CODE        65535\n",
            "PETROEX_COMPONENT_PRODUCT_CODE    65535\n",
            "REDUCED_PRODUCT_NUMBER            65535\n",
            "VRU_CODE                          65535\n",
            "PDXR_PRODUCT_CODE                 65535\n",
            "PDXR_ADDITIVE_CODE                65535\n",
            "METER_PRESET_CODE                 19117\n",
            "COMPARTMENT_OWNER_ID               3208\n",
            "COMPARTMENT_CONTAINER_CODE         3208\n",
            "COMPARTMENT_CONTAINER_TYPE         3208\n",
            "COMPARTMENT_NUMBER                65530\n",
            "PDXR_LOADING_REF                  65535\n",
            "DERIVED_VALUES_ERROR              65535\n",
            "dtype: int64\n"
          ]
        }
      ]
    },
    {
      "cell_type": "code",
      "source": [
        "rcParams['figure.figsize'] = 4,2\n",
        "sns.distplot(df['ORDERED_QUANTITY'], fit=norm)\n",
        "#Get the QQ-plot\n",
        "fig = plt.figure()\n",
        "res = stats.probplot(df['ORDERED_QUANTITY'], plot=plt)\n",
        "plt.show()"
      ],
      "metadata": {
        "colab": {
          "base_uri": "https://localhost:8080/",
          "height": 664
        },
        "id": "yCKtgN0Zej6N",
        "outputId": "8246f943-39cb-401d-a88e-014d4aed606f"
      },
      "execution_count": 9,
      "outputs": [
        {
          "output_type": "stream",
          "name": "stderr",
          "text": [
            "<ipython-input-9-e15d0e8b38a2>:2: UserWarning: \n",
            "\n",
            "`distplot` is a deprecated function and will be removed in seaborn v0.14.0.\n",
            "\n",
            "Please adapt your code to use either `displot` (a figure-level function with\n",
            "similar flexibility) or `histplot` (an axes-level function for histograms).\n",
            "\n",
            "For a guide to updating your code to use the new functions, please see\n",
            "https://gist.github.com/mwaskom/de44147ed2974457ad6372750bbe5751\n",
            "\n",
            "  sns.distplot(df['ORDERED_QUANTITY'], fit=norm)\n"
          ]
        },
        {
          "output_type": "display_data",
          "data": {
            "text/plain": [
              "<Figure size 400x200 with 1 Axes>"
            ],
            "image/png": "[encoded data removed]"
          },
          "metadata": {}
        },
        {
          "output_type": "display_data",
          "data": {
            "text/plain": [
              "<Figure size 400x200 with 1 Axes>"
            ],
            "image/png": "[encoded data removed]"
          },
          "metadata": {}
        }
      ]
    },
    {
      "cell_type": "code",
      "source": [
        "df1 = df.drop(['COMPARTMENT_ID','PDXR_AUTHORIZATION_UNITS','MEASURED_QUANTITY_TYPE','COMMITTED_CONV_COE','COMMITTED_CONV_PRESSURE',\n",
        "               'INVENTORY_QUANTITY_TYPE','DERIVED_VALUES_DIRECTIVE','ADJUSTMENT_BATCH','COMMODITY_GROUP','CALCULATE_NET',\n",
        "               'DERIVATION_STATUS','TOTAL_BATCH_BLEND_NET_VOLUME','PRESSURE','NON_RECIPE_WEIGHT_IN_VAC','BLEND_CORRECTION_METHOD',\n",
        "               'BLEND_CORRECTION_NET_VOLUME','BLEND_CORRECTION_SOURCE','ORDER_ID','ORDER_RECIPE_ID','API_CODE','HOST_PRODUCT_CODE',\n",
        "               'PDXR_ADDITIVE_CODE','PDXR_PRODUCT_CODE','REDUCED_PRODUCT_NUMBER','INJECTOR_PRESET_CODE','INJECTOR_CODE','BAY_CODE',\n",
        "               'HOST_PRODUCT_NAME','PETROEX_COMPONENT_PRODUCT_CODE','FINAL_SCALE_INTERFACE_CODE','TARE_SCALE_INTERFACE_CODE','TANK_CODE',\n",
        "               'METER_CODE','SHOST_SI_HOST_PRODUCT_NUMBER','THOST_TI_HOST_PRODUCT_NUMBER','LAST_MODIFIED','LAST_USER_NAME','METER_PRESET_CODE',\n",
        "               'COMPARTMENT_OWNER_ID','COMPARTMENT_CONTAINER_CODE','COMPARTMENT_CONTAINER_TYPE','COMPARTMENT_NUMBER','PDXR_LOADING_REF',\n",
        "               'DERIVED_VALUES_ERROR','BLEND_PERCENT','VRU_CODE','RT_INJECTOR_ALARM_COUNT','RATE','OVERRIDE_TEMPERATURE_ENABLE',\n",
        "               'COMMITTED_WEIGHT_IN_AIR','COMMITTED_WEIGHT_IN_VAC','COMPATIBILITY_STATUS','NON_RECIPE_WEIGHT','BLEND_PERCENT',\n",
        "               'COMMITTED_CONV_DENSITY','ADDITIVE_WEIGHT_IN_VAC','PRODUCT_WEIGHT_IN_VAC','WEIGHT_IN_VAC','NON_RECIPE_NET_QUANTITY',\n",
        "               'NON_RECIPE_GROSS_QUANTITY','WEIGHT_IN_VAC','NON_RECIPE_NET_QUANTITY','NON_RECIPE_GROSS_QUANTITY','RECIPE_CORRECTION_TYPE',\n",
        "               'COMPATIBILITY_STATUS','ADDITIVE_MASKING','CUSTOMER_NET_QUANTITY','DENSITY','NET_QUANTITY','WEIGHT','PRODUCT_TOLERANCE_STATUS',\n",
        "               'SPECIFIC_GRAVITY','COEFFICIENT_EXPANSION','TEMPERATURE','RVP','PRODUCT_TOLERANCE_STATUS','TANK_INVENTORY_UPDATED','TOTALIZER_UPDATED',\n",
        "               'FLUSH_STATUS','ADDITIVE_WEIGHT','PRODUCT_WEIGHT','BATCH_NUMBER','FRAC_END_GROSS_TOTALIZER','START_GROSS_TOTALIZER','END_GROSS_TOTALIZER',\n",
        "               'START_NET_TOTALIZER','FROM_LEFT_ON_TRUCK','OBSERVED_DENSITY','COMPONENT_ID','CALCULATE_SECONDARY_UNITS','FRAC_START_GROSS_TOTALIZER',\n",
        "               'TERMINAL_PRODUCT_TYPE','END_WEIGHT','START_WEIGHT','END_NET_TOTALIZER','OXYGEN','GROSS_QUANTITY','TERMINAL_PRODUCT_NUMBER','COMMITTED_CONV_TEMPERATURE',\n",
        "               'COMMITTED_GROSS_QUANTITY','COMMITTED_NET_QUANTITY','END_TIME','ADDITIVE_QUANTITY','PRODUCT_QUANTITY'], axis=1)\n",
        "df1"
      ],
      "metadata": {
        "colab": {
          "base_uri": "https://localhost:8080/",
          "height": 424
        },
        "id": "eJXxWF0WcacN",
        "outputId": "9c9d1440-2a4b-42c2-e8e9-7dc36f583b85"
      },
      "execution_count": 10,
      "outputs": [
        {
          "output_type": "execute_result",
          "data": {
            "text/plain": [
              "      PRODUCT_GROUP_CODE  SUPPLIER_NUMBER  ORDERED_QUANTITY  \\\n",
              "0                    DSL               12               100   \n",
              "1                    DSL               12               100   \n",
              "2                    DSL               12               100   \n",
              "3                    DSL               12               671   \n",
              "4                    DSL               12               100   \n",
              "...                  ...              ...               ...   \n",
              "65530                DSL               13              4000   \n",
              "65531                DSL               13             10000   \n",
              "65532                DSL               13             10000   \n",
              "65533                DSL                1              8000   \n",
              "65534                ADD                1              2400   \n",
              "\n",
              "               START_TIME  \n",
              "0                     NaT  \n",
              "1                     NaT  \n",
              "2                     NaT  \n",
              "3     2021-09-24 14:21:46  \n",
              "4                     NaT  \n",
              "...                   ...  \n",
              "65530 2021-12-17 14:48:04  \n",
              "65531 2021-12-17 14:50:18  \n",
              "65532 2021-12-17 14:59:36  \n",
              "65533 2021-12-17 14:35:17  \n",
              "65534 2021-12-17 14:35:17  \n",
              "\n",
              "[65535 rows x 4 columns]"
            ],
            "text/html": [
              "\n",
              "  <div id=\"df-3321e584-18d6-4678-91a3-d4ef3e22a26a\" class=\"colab-df-container\">\n",
              "    <div>\n",
              "<style scoped>\n",
              "    .dataframe tbody tr th:only-of-type {\n",
              "        vertical-align: middle;\n",
              "    }\n",
              "\n",
              "    .dataframe tbody tr th {\n",
              "        vertical-align: top;\n",
              "    }\n",
              "\n",
              "    .dataframe thead th {\n",
              "        text-align: right;\n",
              "    }\n",
              "</style>\n",
              "<table border=\"1\" class=\"dataframe\">\n",
              "  <thead>\n",
              "    <tr style=\"text-align: right;\">\n",
              "      <th></th>\n",
              "      <th>PRODUCT_GROUP_CODE</th>\n",
              "      <th>SUPPLIER_NUMBER</th>\n",
              "      <th>ORDERED_QUANTITY</th>\n",
              "      <th>START_TIME</th>\n",
              "    </tr>\n",
              "  </thead>\n",
              "  <tbody>\n",
              "    <tr>\n",
              "      <th>0</th>\n",
              "      <td>DSL</td>\n",
              "      <td>12</td>\n",
              "      <td>100</td>\n",
              "      <td>NaT</td>\n",
              "    </tr>\n",
              "    <tr>\n",
              "      <th>1</th>\n",
              "      <td>DSL</td>\n",
              "      <td>12</td>\n",
              "      <td>100</td>\n",
              "      <td>NaT</td>\n",
              "    </tr>\n",
              "    <tr>\n",
              "      <th>2</th>\n",
              "      <td>DSL</td>\n",
              "      <td>12</td>\n",
              "      <td>100</td>\n",
              "      <td>NaT</td>\n",
              "    </tr>\n",
              "    <tr>\n",
              "      <th>3</th>\n",
              "      <td>DSL</td>\n",
              "      <td>12</td>\n",
              "      <td>671</td>\n",
              "      <td>2021-09-24 14:21:46</td>\n",
              "    </tr>\n",
              "    <tr>\n",
              "      <th>4</th>\n",
              "      <td>DSL</td>\n",
              "      <td>12</td>\n",
              "      <td>100</td>\n",
              "      <td>NaT</td>\n",
              "    </tr>\n",
              "    <tr>\n",
              "      <th>...</th>\n",
              "      <td>...</td>\n",
              "      <td>...</td>\n",
              "      <td>...</td>\n",
              "      <td>...</td>\n",
              "    </tr>\n",
              "    <tr>\n",
              "      <th>65530</th>\n",
              "      <td>DSL</td>\n",
              "      <td>13</td>\n",
              "      <td>4000</td>\n",
              "      <td>2021-12-17 14:48:04</td>\n",
              "    </tr>\n",
              "    <tr>\n",
              "      <th>65531</th>\n",
              "      <td>DSL</td>\n",
              "      <td>13</td>\n",
              "      <td>10000</td>\n",
              "      <td>2021-12-17 14:50:18</td>\n",
              "    </tr>\n",
              "    <tr>\n",
              "      <th>65532</th>\n",
              "      <td>DSL</td>\n",
              "      <td>13</td>\n",
              "      <td>10000</td>\n",
              "      <td>2021-12-17 14:59:36</td>\n",
              "    </tr>\n",
              "    <tr>\n",
              "      <th>65533</th>\n",
              "      <td>DSL</td>\n",
              "      <td>1</td>\n",
              "      <td>8000</td>\n",
              "      <td>2021-12-17 14:35:17</td>\n",
              "    </tr>\n",
              "    <tr>\n",
              "      <th>65534</th>\n",
              "      <td>ADD</td>\n",
              "      <td>1</td>\n",
              "      <td>2400</td>\n",
              "      <td>2021-12-17 14:35:17</td>\n",
              "    </tr>\n",
              "  </tbody>\n",
              "</table>\n",
              "<p>65535 rows × 4 columns</p>\n",
              "</div>\n",
              "    <div class=\"colab-df-buttons\">\n",
              "\n",
              "  <div class=\"colab-df-container\">\n",
              "    <button class=\"colab-df-convert\" onclick=\"convertToInteractive('df-3321e584-18d6-4678-91a3-d4ef3e22a26a')\"\n",
              "            title=\"Convert this dataframe to an interactive table.\"\n",
              "            style=\"display:none;\">\n",
              "\n",
              "  <svg xmlns=\"http://www.w3.org/2000/svg\" height=\"24px\" viewBox=\"0 -960 960 960\">\n",
              "    <path d=\"M120-120v-720h720v720H120Zm60-500h600v-160H180v160Zm220 220h160v-160H400v160Zm0 220h160v-160H400v160ZM180-400h160v-160H180v160Zm440 0h160v-160H620v160ZM180-180h160v-160H180v160Zm440 0h160v-160H620v160Z\"/>\n",
              "  </svg>\n",
              "    </button>\n",
              "\n",
              "  <style>\n",
              "    .colab-df-container {\n",
              "      display:flex;\n",
              "      gap: 12px;\n",
              "    }\n",
              "\n",
              "    .colab-df-convert {\n",
              "      background-color: #E8F0FE;\n",
              "      border: none;\n",
              "      border-radius: 50%;\n",
              "      cursor: pointer;\n",
              "      display: none;\n",
              "      fill: #1967D2;\n",
              "      height: 32px;\n",
              "      padding: 0 0 0 0;\n",
              "      width: 32px;\n",
              "    }\n",
              "\n",
              "    .colab-df-convert:hover {\n",
              "      background-color: #E2EBFA;\n",
              "      box-shadow: 0px 1px 2px rgba(60, 64, 67, 0.3), 0px 1px 3px 1px rgba(60, 64, 67, 0.15);\n",
              "      fill: #174EA6;\n",
              "    }\n",
              "\n",
              "    .colab-df-buttons div {\n",
              "      margin-bottom: 4px;\n",
              "    }\n",
              "\n",
              "    [theme=dark] .colab-df-convert {\n",
              "      background-color: #3B4455;\n",
              "      fill: #D2E3FC;\n",
              "    }\n",
              "\n",
              "    [theme=dark] .colab-df-convert:hover {\n",
              "      background-color: #434B5C;\n",
              "      box-shadow: 0px 1px 3px 1px rgba(0, 0, 0, 0.15);\n",
              "      filter: drop-shadow(0px 1px 2px rgba(0, 0, 0, 0.3));\n",
              "      fill: #FFFFFF;\n",
              "    }\n",
              "  </style>\n",
              "\n",
              "    <script>\n",
              "      const buttonEl =\n",
              "        document.querySelector('#df-3321e584-18d6-4678-91a3-d4ef3e22a26a button.colab-df-convert');\n",
              "      buttonEl.style.display =\n",
              "        google.colab.kernel.accessAllowed ? 'block' : 'none';\n",
              "\n",
              "      async function convertToInteractive(key) {\n",
              "        const element = document.querySelector('#df-3321e584-18d6-4678-91a3-d4ef3e22a26a');\n",
              "        const dataTable =\n",
              "          await google.colab.kernel.invokeFunction('convertToInteractive',\n",
              "                                                    [key], {});\n",
              "        if (!dataTable) return;\n",
              "\n",
              "        const docLinkHtml = 'Like what you see? Visit the ' +\n",
              "          '<a target=\"_blank\" href=https://colab.research.google.com/notebooks/data_table.ipynb>data table notebook</a>'\n",
              "          + ' to learn more about interactive tables.';\n",
              "        element.innerHTML = '';\n",
              "        dataTable['output_type'] = 'display_data';\n",
              "        await google.colab.output.renderOutput(dataTable, element);\n",
              "        const docLink = document.createElement('div');\n",
              "        docLink.innerHTML = docLinkHtml;\n",
              "        element.appendChild(docLink);\n",
              "      }\n",
              "    </script>\n",
              "  </div>\n",
              "\n",
              "\n",
              "<div id=\"df-11b6d0a2-4530-4ad7-a26b-bcd5d0261705\">\n",
              "  <button class=\"colab-df-quickchart\" onclick=\"quickchart('df-11b6d0a2-4530-4ad7-a26b-bcd5d0261705')\"\n",
              "            title=\"Suggest charts\"\n",
              "            style=\"display:none;\">\n",
              "\n",
              "<svg xmlns=\"http://www.w3.org/2000/svg\" height=\"24px\"viewBox=\"0 0 24 24\"\n",
              "     width=\"24px\">\n",
              "    <g>\n",
              "        <path d=\"M19 3H5c-1.1 0-2 .9-2 2v14c0 1.1.9 2 2 2h14c1.1 0 2-.9 2-2V5c0-1.1-.9-2-2-2zM9 17H7v-7h2v7zm4 0h-2V7h2v10zm4 0h-2v-4h2v4z\"/>\n",
              "    </g>\n",
              "</svg>\n",
              "  </button>\n",
              "\n",
              "<style>\n",
              "  .colab-df-quickchart {\n",
              "      --bg-color: #E8F0FE;\n",
              "      --fill-color: #1967D2;\n",
              "      --hover-bg-color: #E2EBFA;\n",
              "      --hover-fill-color: #174EA6;\n",
              "      --disabled-fill-color: #AAA;\n",
              "      --disabled-bg-color: #DDD;\n",
              "  }\n",
              "\n",
              "  [theme=dark] .colab-df-quickchart {\n",
              "      --bg-color: #3B4455;\n",
              "      --fill-color: #D2E3FC;\n",
              "      --hover-bg-color: #434B5C;\n",
              "      --hover-fill-color: #FFFFFF;\n",
              "      --disabled-bg-color: #3B4455;\n",
              "      --disabled-fill-color: #666;\n",
              "  }\n",
              "\n",
              "  .colab-df-quickchart {\n",
              "    background-color: var(--bg-color);\n",
              "    border: none;\n",
              "    border-radius: 50%;\n",
              "    cursor: pointer;\n",
              "    display: none;\n",
              "    fill: var(--fill-color);\n",
              "    height: 32px;\n",
              "    padding: 0;\n",
              "    width: 32px;\n",
              "  }\n",
              "\n",
              "  .colab-df-quickchart:hover {\n",
              "    background-color: var(--hover-bg-color);\n",
              "    box-shadow: 0 1px 2px rgba(60, 64, 67, 0.3), 0 1px 3px 1px rgba(60, 64, 67, 0.15);\n",
              "    fill: var(--button-hover-fill-color);\n",
              "  }\n",
              "\n",
              "  .colab-df-quickchart-complete:disabled,\n",
              "  .colab-df-quickchart-complete:disabled:hover {\n",
              "    background-color: var(--disabled-bg-color);\n",
              "    fill: var(--disabled-fill-color);\n",
              "    box-shadow: none;\n",
              "  }\n",
              "\n",
              "  .colab-df-spinner {\n",
              "    border: 2px solid var(--fill-color);\n",
              "    border-color: transparent;\n",
              "    border-bottom-color: var(--fill-color);\n",
              "    animation:\n",
              "      spin 1s steps(1) infinite;\n",
              "  }\n",
              "\n",
              "  @keyframes spin {\n",
              "    0% {\n",
              "      border-color: transparent;\n",
              "      border-bottom-color: var(--fill-color);\n",
              "      border-left-color: var(--fill-color);\n",
              "    }\n",
              "    20% {\n",
              "      border-color: transparent;\n",
              "      border-left-color: var(--fill-color);\n",
              "      border-top-color: var(--fill-color);\n",
              "    }\n",
              "    30% {\n",
              "      border-color: transparent;\n",
              "      border-left-color: var(--fill-color);\n",
              "      border-top-color: var(--fill-color);\n",
              "      border-right-color: var(--fill-color);\n",
              "    }\n",
              "    40% {\n",
              "      border-color: transparent;\n",
              "      border-right-color: var(--fill-color);\n",
              "      border-top-color: var(--fill-color);\n",
              "    }\n",
              "    60% {\n",
              "      border-color: transparent;\n",
              "      border-right-color: var(--fill-color);\n",
              "    }\n",
              "    80% {\n",
              "      border-color: transparent;\n",
              "      border-right-color: var(--fill-color);\n",
              "      border-bottom-color: var(--fill-color);\n",
              "    }\n",
              "    90% {\n",
              "      border-color: transparent;\n",
              "      border-bottom-color: var(--fill-color);\n",
              "    }\n",
              "  }\n",
              "</style>\n",
              "\n",
              "  <script>\n",
              "    async function quickchart(key) {\n",
              "      const quickchartButtonEl =\n",
              "        document.querySelector('#' + key + ' button');\n",
              "      quickchartButtonEl.disabled = true;  // To prevent multiple clicks.\n",
              "      quickchartButtonEl.classList.add('colab-df-spinner');\n",
              "      try {\n",
              "        const charts = await google.colab.kernel.invokeFunction(\n",
              "            'suggestCharts', [key], {});\n",
              "      } catch (error) {\n",
              "        console.error('Error during call to suggestCharts:', error);\n",
              "      }\n",
              "      quickchartButtonEl.classList.remove('colab-df-spinner');\n",
              "      quickchartButtonEl.classList.add('colab-df-quickchart-complete');\n",
              "    }\n",
              "    (() => {\n",
              "      let quickchartButtonEl =\n",
              "        document.querySelector('#df-11b6d0a2-4530-4ad7-a26b-bcd5d0261705 button');\n",
              "      quickchartButtonEl.style.display =\n",
              "        google.colab.kernel.accessAllowed ? 'block' : 'none';\n",
              "    })();\n",
              "  </script>\n",
              "</div>\n",
              "\n",
              "  <div id=\"id_1bc61275-a3fe-4437-b3b6-2f245924d88f\">\n",
              "    <style>\n",
              "      .colab-df-generate {\n",
              "        background-color: #E8F0FE;\n",
              "        border: none;\n",
              "        border-radius: 50%;\n",
              "        cursor: pointer;\n",
              "        display: none;\n",
              "        fill: #1967D2;\n",
              "        height: 32px;\n",
              "        padding: 0 0 0 0;\n",
              "        width: 32px;\n",
              "      }\n",
              "\n",
              "      .colab-df-generate:hover {\n",
              "        background-color: #E2EBFA;\n",
              "        box-shadow: 0px 1px 2px rgba(60, 64, 67, 0.3), 0px 1px 3px 1px rgba(60, 64, 67, 0.15);\n",
              "        fill: #174EA6;\n",
              "      }\n",
              "\n",
              "      [theme=dark] .colab-df-generate {\n",
              "        background-color: #3B4455;\n",
              "        fill: #D2E3FC;\n",
              "      }\n",
              "\n",
              "      [theme=dark] .colab-df-generate:hover {\n",
              "        background-color: #434B5C;\n",
              "        box-shadow: 0px 1px 3px 1px rgba(0, 0, 0, 0.15);\n",
              "        filter: drop-shadow(0px 1px 2px rgba(0, 0, 0, 0.3));\n",
              "        fill: #FFFFFF;\n",
              "      }\n",
              "    </style>\n",
              "    <button class=\"colab-df-generate\" onclick=\"generateWithVariable('df1')\"\n",
              "            title=\"Generate code using this dataframe.\"\n",
              "            style=\"display:none;\">\n",
              "\n",
              "  <svg xmlns=\"http://www.w3.org/2000/svg\" height=\"24px\"viewBox=\"0 0 24 24\"\n",
              "       width=\"24px\">\n",
              "    <path d=\"M7,19H8.4L18.45,9,17,7.55,7,17.6ZM5,21V16.75L18.45,3.32a2,2,0,0,1,2.83,0l1.4,1.43a1.91,1.91,0,0,1,.58,1.4,1.91,1.91,0,0,1-.58,1.4L9.25,21ZM18.45,9,17,7.55Zm-12,3A5.31,5.31,0,0,0,4.9,8.1,5.31,5.31,0,0,0,1,6.5,5.31,5.31,0,0,0,4.9,4.9,5.31,5.31,0,0,0,6.5,1,5.31,5.31,0,0,0,8.1,4.9,5.31,5.31,0,0,0,12,6.5,5.46,5.46,0,0,0,6.5,12Z\"/>\n",
              "  </svg>\n",
              "    </button>\n",
              "    <script>\n",
              "      (() => {\n",
              "      const buttonEl =\n",
              "        document.querySelector('#id_1bc61275-a3fe-4437-b3b6-2f245924d88f button.colab-df-generate');\n",
              "      buttonEl.style.display =\n",
              "        google.colab.kernel.accessAllowed ? 'block' : 'none';\n",
              "\n",
              "      buttonEl.onclick = () => {\n",
              "        google.colab.notebook.generateWithVariable('df1');\n",
              "      }\n",
              "      })();\n",
              "    </script>\n",
              "  </div>\n",
              "\n",
              "    </div>\n",
              "  </div>\n"
            ],
            "application/vnd.google.colaboratory.intrinsic+json": {
              "type": "dataframe",
              "variable_name": "df1",
              "summary": "{\n  \"name\": \"df1\",\n  \"rows\": 65535,\n  \"fields\": [\n    {\n      \"column\": \"PRODUCT_GROUP_CODE\",\n      \"properties\": {\n        \"dtype\": \"category\",\n        \"num_unique_values\": 3,\n        \"samples\": [\n          \"DSL\",\n          \"GAS\",\n          \"ADD\"\n        ],\n        \"semantic_type\": \"\",\n        \"description\": \"\"\n      }\n    },\n    {\n      \"column\": \"SUPPLIER_NUMBER\",\n      \"properties\": {\n        \"dtype\": \"number\",\n        \"std\": 4,\n        \"min\": 1,\n        \"max\": 18,\n        \"num_unique_values\": 14,\n        \"samples\": [\n          7,\n          2,\n          12\n        ],\n        \"semantic_type\": \"\",\n        \"description\": \"\"\n      }\n    },\n    {\n      \"column\": \"ORDERED_QUANTITY\",\n      \"properties\": {\n        \"dtype\": \"number\",\n        \"std\": 3461,\n        \"min\": 0,\n        \"max\": 34080,\n        \"num_unique_values\": 86,\n        \"samples\": [\n          9500,\n          100,\n          3989\n        ],\n        \"semantic_type\": \"\",\n        \"description\": \"\"\n      }\n    },\n    {\n      \"column\": \"START_TIME\",\n      \"properties\": {\n        \"dtype\": \"date\",\n        \"min\": \"2021-09-24 14:21:46\",\n        \"max\": \"2021-12-17 14:59:36\",\n        \"num_unique_values\": 39382,\n        \"samples\": [\n          \"2021-09-27 13:57:12\",\n          \"2021-11-08 08:38:42\",\n          \"2021-11-13 04:55:29\"\n        ],\n        \"semantic_type\": \"\",\n        \"description\": \"\"\n      }\n    }\n  ]\n}"
            }
          },
          "metadata": {},
          "execution_count": 10
        }
      ]
    },
    {
      "cell_type": "code",
      "source": [
        "df1 = df1[df1['ORDERED_QUANTITY'] != 0]"
      ],
      "metadata": {
        "id": "3LRfDv8XYFQv"
      },
      "execution_count": 11,
      "outputs": []
    },
    {
      "cell_type": "code",
      "source": [
        "#df1['START_TIME'] = pd.to_datetime(df1['START_TIME']).astype(int)"
      ],
      "metadata": {
        "id": "j1korFZBetEy"
      },
      "execution_count": 12,
      "outputs": []
    },
    {
      "cell_type": "code",
      "source": [
        "print(df1.isnull().any()> 0)"
      ],
      "metadata": {
        "colab": {
          "base_uri": "https://localhost:8080/"
        },
        "id": "Zqo3zarGcai-",
        "outputId": "6e1bafec-97de-4acd-bead-67bf192a92d9"
      },
      "execution_count": 13,
      "outputs": [
        {
          "output_type": "stream",
          "name": "stdout",
          "text": [
            "PRODUCT_GROUP_CODE    False\n",
            "SUPPLIER_NUMBER       False\n",
            "ORDERED_QUANTITY      False\n",
            "START_TIME             True\n",
            "dtype: bool\n"
          ]
        }
      ]
    },
    {
      "cell_type": "code",
      "source": [
        "numeric_columns = df1.select_dtypes(include=['number']).columns\n",
        "corr_matrix = df1[numeric_columns].corr()\n",
        "plt.figure(figsize=(30,15))\n",
        "sns.heatmap(corr_matrix.corr(), annot=True, cmap=\"YlGnBu\")"
      ],
      "metadata": {
        "colab": {
          "base_uri": "https://localhost:8080/",
          "height": 849
        },
        "id": "hALnkG11cala",
        "outputId": "237edff6-6b17-4ae0-e7d2-f1bfd6b708b9"
      },
      "execution_count": 14,
      "outputs": [
        {
          "output_type": "execute_result",
          "data": {
            "text/plain": [
              "<Axes: >"
            ]
          },
          "metadata": {},
          "execution_count": 14
        },
        {
          "output_type": "display_data",
          "data": {
            "text/plain": [
              "<Figure size 3000x1500 with 2 Axes>"
            ],
            "image/png": "[encoded data removed]"
          },
          "metadata": {}
        }
      ]
    },
    {
      "cell_type": "code",
      "source": [
        "df1 = df1.drop_duplicates()\n",
        "print(f\"Number of duplicate rows: {df1.duplicated().sum()}\")"
      ],
      "metadata": {
        "colab": {
          "base_uri": "https://localhost:8080/"
        },
        "id": "fbzR3xSMcaow",
        "outputId": "1baf2890-d1bf-46e4-c0b7-77d3a0e39514"
      },
      "execution_count": 15,
      "outputs": [
        {
          "output_type": "stream",
          "name": "stdout",
          "text": [
            "Number of duplicate rows: 0\n"
          ]
        }
      ]
    },
    {
      "cell_type": "code",
      "source": [
        "#Lets check the Orders by Product Category.\n",
        "rcParams['figure.figsize'] = 50,12\n",
        "\n",
        "#Taking subset of data temporarily for in memory compute.⅖\n",
        "df_temp = df1.sample(n=60000).reset_index()\n",
        "df_temp['log_ordered_quantity']= np.log1p(df_temp['ORDERED_QUANTITY'])\n",
        "\n",
        "# Create a boxplot of log ordered quantity by product group code\n",
        "fig5 = sns.boxplot(\n",
        "    x=\"PRODUCT_GROUP_CODE\",\n",
        "    y=\"log_ordered_quantity\",\n",
        "    data=df_temp,\n",
        "    order=df_temp['PRODUCT_GROUP_CODE'].sort_values().unique(),)\n",
        "\n",
        "# Delete temporary dataframe and figure\n",
        "del df_temp, fig5"
      ],
      "metadata": {
        "colab": {
          "base_uri": "https://localhost:8080/",
          "height": 391
        },
        "id": "5j34L991es8Z",
        "outputId": "125b1e5b-7dcb-4022-cfe7-04a68426a443"
      },
      "execution_count": 16,
      "outputs": [
        {
          "output_type": "error",
          "ename": "ValueError",
          "evalue": "Cannot take a larger sample than population when 'replace=False'",
          "traceback": [
            "\u001b[0;31m---------------------------------------------------------------------------\u001b[0m",
            "\u001b[0;31mValueError\u001b[0m                                Traceback (most recent call last)",
            "\u001b[0;32m<ipython-input-16-71ef5dc81e92>\u001b[0m in \u001b[0;36m<cell line: 5>\u001b[0;34m()\u001b[0m\n\u001b[1;32m      3\u001b[0m \u001b[0;34m\u001b[0m\u001b[0m\n\u001b[1;32m      4\u001b[0m \u001b[0;31m#Taking subset of data temporarily for in memory compute.⅖\u001b[0m\u001b[0;34m\u001b[0m\u001b[0;34m\u001b[0m\u001b[0m\n\u001b[0;32m----> 5\u001b[0;31m \u001b[0mdf_temp\u001b[0m \u001b[0;34m=\u001b[0m \u001b[0mdf1\u001b[0m\u001b[0;34m.\u001b[0m\u001b[0msample\u001b[0m\u001b[0;34m(\u001b[0m\u001b[0mn\u001b[0m\u001b[0;34m=\u001b[0m\u001b[0;36m60000\u001b[0m\u001b[0;34m)\u001b[0m\u001b[0;34m.\u001b[0m\u001b[0mreset_index\u001b[0m\u001b[0;34m(\u001b[0m\u001b[0;34m)\u001b[0m\u001b[0;34m\u001b[0m\u001b[0;34m\u001b[0m\u001b[0m\n\u001b[0m\u001b[1;32m      6\u001b[0m \u001b[0mdf_temp\u001b[0m\u001b[0;34m[\u001b[0m\u001b[0;34m'log_ordered_quantity'\u001b[0m\u001b[0;34m]\u001b[0m\u001b[0;34m=\u001b[0m \u001b[0mnp\u001b[0m\u001b[0;34m.\u001b[0m\u001b[0mlog1p\u001b[0m\u001b[0;34m(\u001b[0m\u001b[0mdf_temp\u001b[0m\u001b[0;34m[\u001b[0m\u001b[0;34m'ORDERED_QUANTITY'\u001b[0m\u001b[0;34m]\u001b[0m\u001b[0;34m)\u001b[0m\u001b[0;34m\u001b[0m\u001b[0;34m\u001b[0m\u001b[0m\n\u001b[1;32m      7\u001b[0m \u001b[0;34m\u001b[0m\u001b[0m\n",
            "\u001b[0;32m/usr/local/lib/python3.10/dist-packages/pandas/core/generic.py\u001b[0m in \u001b[0;36msample\u001b[0;34m(self, n, frac, replace, weights, random_state, axis, ignore_index)\u001b[0m\n\u001b[1;32m   5856\u001b[0m             \u001b[0mweights\u001b[0m \u001b[0;34m=\u001b[0m \u001b[0msample\u001b[0m\u001b[0;34m.\u001b[0m\u001b[0mpreprocess_weights\u001b[0m\u001b[0;34m(\u001b[0m\u001b[0mself\u001b[0m\u001b[0;34m,\u001b[0m \u001b[0mweights\u001b[0m\u001b[0;34m,\u001b[0m \u001b[0maxis\u001b[0m\u001b[0;34m)\u001b[0m\u001b[0;34m\u001b[0m\u001b[0;34m\u001b[0m\u001b[0m\n\u001b[1;32m   5857\u001b[0m \u001b[0;34m\u001b[0m\u001b[0m\n\u001b[0;32m-> 5858\u001b[0;31m         \u001b[0msampled_indices\u001b[0m \u001b[0;34m=\u001b[0m \u001b[0msample\u001b[0m\u001b[0;34m.\u001b[0m\u001b[0msample\u001b[0m\u001b[0;34m(\u001b[0m\u001b[0mobj_len\u001b[0m\u001b[0;34m,\u001b[0m \u001b[0msize\u001b[0m\u001b[0;34m,\u001b[0m \u001b[0mreplace\u001b[0m\u001b[0;34m,\u001b[0m \u001b[0mweights\u001b[0m\u001b[0;34m,\u001b[0m \u001b[0mrs\u001b[0m\u001b[0;34m)\u001b[0m\u001b[0;34m\u001b[0m\u001b[0;34m\u001b[0m\u001b[0m\n\u001b[0m\u001b[1;32m   5859\u001b[0m         \u001b[0mresult\u001b[0m \u001b[0;34m=\u001b[0m \u001b[0mself\u001b[0m\u001b[0;34m.\u001b[0m\u001b[0mtake\u001b[0m\u001b[0;34m(\u001b[0m\u001b[0msampled_indices\u001b[0m\u001b[0;34m,\u001b[0m \u001b[0maxis\u001b[0m\u001b[0;34m=\u001b[0m\u001b[0maxis\u001b[0m\u001b[0;34m)\u001b[0m\u001b[0;34m\u001b[0m\u001b[0;34m\u001b[0m\u001b[0m\n\u001b[1;32m   5860\u001b[0m \u001b[0;34m\u001b[0m\u001b[0m\n",
            "\u001b[0;32m/usr/local/lib/python3.10/dist-packages/pandas/core/sample.py\u001b[0m in \u001b[0;36msample\u001b[0;34m(obj_len, size, replace, weights, random_state)\u001b[0m\n\u001b[1;32m    149\u001b[0m             \u001b[0;32mraise\u001b[0m \u001b[0mValueError\u001b[0m\u001b[0;34m(\u001b[0m\u001b[0;34m\"Invalid weights: weights sum to zero\"\u001b[0m\u001b[0;34m)\u001b[0m\u001b[0;34m\u001b[0m\u001b[0;34m\u001b[0m\u001b[0m\n\u001b[1;32m    150\u001b[0m \u001b[0;34m\u001b[0m\u001b[0m\n\u001b[0;32m--> 151\u001b[0;31m     return random_state.choice(obj_len, size=size, replace=replace, p=weights).astype(\n\u001b[0m\u001b[1;32m    152\u001b[0m         \u001b[0mnp\u001b[0m\u001b[0;34m.\u001b[0m\u001b[0mintp\u001b[0m\u001b[0;34m,\u001b[0m \u001b[0mcopy\u001b[0m\u001b[0;34m=\u001b[0m\u001b[0;32mFalse\u001b[0m\u001b[0;34m\u001b[0m\u001b[0;34m\u001b[0m\u001b[0m\n\u001b[1;32m    153\u001b[0m     )\n",
            "\u001b[0;32mmtrand.pyx\u001b[0m in \u001b[0;36mnumpy.random.mtrand.RandomState.choice\u001b[0;34m()\u001b[0m\n",
            "\u001b[0;31mValueError\u001b[0m: Cannot take a larger sample than population when 'replace=False'"
          ]
        }
      ]
    },
    {
      "cell_type": "code",
      "source": [
        "df1['START_TIME'].value_counts().sort_values(ascending = False)"
      ],
      "metadata": {
        "id": "rt3JF_yE3C-J"
      },
      "execution_count": null,
      "outputs": []
    },
    {
      "cell_type": "code",
      "source": [
        "missing_percentage = (df1.isnull().sum() / len(df1)) * 100\n",
        "print(missing_percentage[missing_percentage > 0])"
      ],
      "metadata": {
        "id": "nmop5PLGes-2"
      },
      "execution_count": null,
      "outputs": []
    },
    {
      "cell_type": "code",
      "source": [
        "df1.info()"
      ],
      "metadata": {
        "id": "5ebqgaVTetBP"
      },
      "execution_count": null,
      "outputs": []
    },
    {
      "cell_type": "code",
      "source": [
        "# Forward Fill: fill missing dates with the last observed value\n",
        "df1['START_TIME'] = df1['START_TIME'].fillna(method='ffill')"
      ],
      "metadata": {
        "id": "clfWFyhwysHf"
      },
      "execution_count": null,
      "outputs": []
    },
    {
      "cell_type": "code",
      "source": [
        "df1['START_TIME'] = df1['START_TIME'].dt.date"
      ],
      "metadata": {
        "id": "-M-SbwBCKxNu"
      },
      "execution_count": null,
      "outputs": []
    },
    {
      "cell_type": "code",
      "source": [
        "df1 = df1.dropna(subset=['START_TIME'])"
      ],
      "metadata": {
        "id": "ry8htjPVLhgh"
      },
      "execution_count": null,
      "outputs": []
    },
    {
      "cell_type": "code",
      "source": [
        "grp=df1['PRODUCT_GROUP_CODE']\n",
        "# change the PRODUCT_GROUP_CODE column\n",
        "grp1 = grp.replace({ 'DSL' : 0, 'ADD' : 1 ,'GAS': 2})\n",
        "# put the new PRODUCT_GROUP_CODE column back\n",
        "df1['PRODUCT_GROUP_CODE']=grp1"
      ],
      "metadata": {
        "id": "xlU6RxdXcaeg"
      },
      "execution_count": null,
      "outputs": []
    },
    {
      "cell_type": "code",
      "source": [
        "df1.sort_values('START_TIME', inplace=True)\n",
        "df1['SUPPLIER_NUMBER'].unique()"
      ],
      "metadata": {
        "id": "muyJLWqV0Ja1"
      },
      "execution_count": null,
      "outputs": []
    },
    {
      "cell_type": "code",
      "source": [
        "df1['PRODUCT_GROUP_CODE'].unique()"
      ],
      "metadata": {
        "id": "LTQ-M1hvVZrL"
      },
      "execution_count": null,
      "outputs": []
    },
    {
      "cell_type": "code",
      "source": [
        "print(df1.isnull().any()> 0)"
      ],
      "metadata": {
        "id": "1Z4mqAq-K4Se"
      },
      "execution_count": null,
      "outputs": []
    },
    {
      "cell_type": "code",
      "source": [],
      "metadata": {
        "id": "5NYFxIEDcf2A"
      },
      "execution_count": null,
      "outputs": []
    },
    {
      "cell_type": "code",
      "source": [
        "df1['START_TIME'] = pd.to_numeric(df1['START_TIME'],errors='coerce')"
      ],
      "metadata": {
        "id": "lpIbw6tpLqRq"
      },
      "execution_count": null,
      "outputs": []
    },
    {
      "cell_type": "code",
      "source": [
        "df1"
      ],
      "metadata": {
        "id": "OBqBwg2YLqWP"
      },
      "execution_count": null,
      "outputs": []
    },
    {
      "cell_type": "code",
      "source": [
        "import pandas as pd\n",
        "import matplotlib.pyplot as plt\n",
        "\n",
        "\n",
        "# Round 'START_TIME' to the nearest week (without considering hours)\n",
        "df1['START_TIME'] = df1['START_TIME'].dt.to_period('W').dt.to_timestamp()\n",
        "\n",
        "# Format 'START_TIME' to display only month and day\n",
        "df1['START_TIME'] = df1['START_TIME'].dt.strftime('%Y-%m-%d')\n",
        "\n",
        "# Group by 'PRODUCT_GROUP_CODE', resample to a larger time interval (weekly), and sum the quantities\n",
        "grouped = df1.groupby(['PRODUCT_GROUP_CODE', 'START_TIME'])['ORDERED_QUANTITY'].sum()\n",
        "\n",
        "# Plot each group\n",
        "fig, ax = plt.subplots(figsize=(12, 7))\n",
        "for name, group in grouped.groupby(level=0):  # Iterate over groups\n",
        "    group.plot(ax=ax, label=name)\n",
        "\n",
        "plt.title('Ordered Quantity Over Time by Product Group Code')\n",
        "plt.xlabel('Date (Year-Month-Day)')\n",
        "plt.ylabel('Ordered Quantity')\n",
        "plt.legend()\n",
        "plt.show()"
      ],
      "metadata": {
        "id": "53tI2kctRatI"
      },
      "execution_count": null,
      "outputs": []
    },
    {
      "cell_type": "code",
      "source": [
        "import pandas as pd\n",
        "import matplotlib.pyplot as plt\n",
        "\n",
        "# Ensure 'START_TIME' is in datetime format\n",
        "df1['START_TIME'] = pd.to_datetime(df1['START_TIME'])\n",
        "\n",
        "# Convert 'START_TIME' to a \"Year-Month\" string format\n",
        "df1['START_TIME_YM'] = df1['START_TIME'].dt.strftime('%m-%Y')\n",
        "\n",
        "# You don't need to set START_TIME_YM as an index for grouping in this case\n",
        "# Group by 'PRODUCT_GROUP_CODE' and the new 'START_TIME_YM'\n",
        "grouped = df1.groupby(['PRODUCT_GROUP_CODE', 'START_TIME_YM'])['ORDERED_QUANTITY'].sum().reset_index()\n",
        "\n",
        "# Plot each group\n",
        "fig, ax = plt.subplots(figsize=(12, 7))\n",
        "# Unique product codes for legend\n",
        "product_group_codes = grouped['PRODUCT_GROUP_CODE'].unique()\n",
        "\n",
        "for product_code in product_group_codes:\n",
        "    # Filter the grouped DataFrame for each product code\n",
        "    group = grouped[grouped['PRODUCT_GROUP_CODE'] == product_code]\n",
        "    ax.plot(group['START_TIME_YM'], group['ORDERED_QUANTITY'], label=product_code)\n",
        "\n",
        "plt.title('Monthly Ordered Quantity by Product Group Code')\n",
        "plt.xlabel('Date (Month-Year)')\n",
        "plt.ylabel('Ordered Quantity')\n",
        "plt.xticks(rotation=45)  # Rotate the x-axis labels for better readability\n",
        "plt.legend()\n",
        "plt.tight_layout()  # Adjust layout to make room for the rotated x-axis labels\n",
        "plt.show()\n"
      ],
      "metadata": {
        "id": "ydOF3pM9Resw"
      },
      "execution_count": null,
      "outputs": []
    },
    {
      "source": [
        "# @title Ordered Quantity over Time\n",
        "\n",
        "df1.plot.line(x='START_TIME', y='ORDERED_QUANTITY')"
      ],
      "cell_type": "code",
      "execution_count": null,
      "outputs": [],
      "metadata": {
        "id": "rZstdhDAMZbr"
      }
    },
    {
      "source": [
        "# @title Ordered Quantity vs Product Group over Time\n",
        "\n",
        "df1.groupby(['PRODUCT_GROUP_CODE', 'START_TIME'])['ORDERED_QUANTITY'].sum().unstack().plot(kind='area')"
      ],
      "cell_type": "code",
      "execution_count": null,
      "outputs": [],
      "metadata": {
        "cellView": "form",
        "id": "8GL8EtPXMGiq"
      }
    },
    {
      "cell_type": "code",
      "source": [
        "# Define features and target variable\n",
        "y = df1['ORDERED_QUANTITY']\n",
        "X = df1.drop(['ORDERED_QUANTITY'], axis=1)"
      ],
      "metadata": {
        "id": "eRpDnudte4I2"
      },
      "execution_count": null,
      "outputs": []
    },
    {
      "cell_type": "code",
      "source": [
        "# Split the data into training and testing sets\n",
        "tscv = TimeSeriesSplit(n_splits=3)\n",
        "for train_index, test_index in tscv.split(X):\n",
        "    X_train, X_test = X.iloc[train_index], X.iloc[test_index]\n",
        "    y_train, y_test = y.iloc[train_index], y.iloc[test_index]"
      ],
      "metadata": {
        "id": "q361VrJ4e4Lf"
      },
      "execution_count": null,
      "outputs": []
    },
    {
      "cell_type": "code",
      "source": [
        "# Model Training\n",
        "model = RandomForestRegressor(n_estimators=100, random_state=42)\n",
        "model.fit(X_train, y_train)\n",
        "y_pred = model.predict(X_test)"
      ],
      "metadata": {
        "id": "KlMpBkHVe4PK"
      },
      "execution_count": null,
      "outputs": []
    },
    {
      "cell_type": "code",
      "source": [
        "# Calculate the Mean Absolute Error\n",
        "mae = mean_absolute_error(y_test, y_pred)\n",
        "print(f'Mean Absolute Error: {mae}')"
      ],
      "metadata": {
        "id": "EFQr04--e4Rx"
      },
      "execution_count": null,
      "outputs": []
    },
    {
      "cell_type": "code",
      "source": [
        "# Model Training\n",
        "model = DecisionTreeRegressor(max_depth=3, random_state=42)\n",
        "model.fit(X_train, y_train)\n",
        "y_pred = model.predict(X_test)"
      ],
      "metadata": {
        "id": "cFZnqXRJWOH6"
      },
      "execution_count": null,
      "outputs": []
    },
    {
      "cell_type": "code",
      "source": [
        "# Calculate the Mean Absolute Error\n",
        "mae = mean_absolute_error(y_test, y_pred)\n",
        "print(f'Mean Absolute Error: {mae}')"
      ],
      "metadata": {
        "id": "ZQq51yRCyFbm"
      },
      "execution_count": null,
      "outputs": []
    },
    {
      "cell_type": "code",
      "source": [
        "# Create a list of models and instantiation parameters\n",
        "models = [\n",
        "    AutoARIMA(season_length=24),\n",
        "    HoltWinters(),\n",
        "    Croston(),\n",
        "    SeasonalNaive(season_length=24),\n",
        "\n",
        "    DOT(season_length=24)\n",
        "]"
      ],
      "metadata": {
        "id": "SuVJAEt8jToh"
      },
      "execution_count": null,
      "outputs": []
    },
    {
      "cell_type": "code",
      "source": [
        "# Instantiate StatsForecast class as sf\n",
        "sf = StatsForecast(\n",
        "    df=df1,\n",
        "    models=models,\n",
        "    freq='D', #freq='D' means daily frequency\n",
        "    n_jobs=-1,\n",
        "    fallback_model = SeasonalNaive(season_length=7)\n",
        ")"
      ],
      "metadata": {
        "id": "Xqhc51AKSkP4"
      },
      "execution_count": null,
      "outputs": []
    },
    {
      "cell_type": "code",
      "source": [
        "forecasts_df = sf.forecast(h=14, level=[90])\n",
        "\n",
        "forecasts_df"
      ],
      "metadata": {
        "id": "MN2c4o2sS-9C"
      },
      "execution_count": null,
      "outputs": []
    },
    {
      "cell_type": "code",
      "source": [
        "crossvaldation_df = sf.cross_validation(\n",
        "    df=High,\n",
        "    h=14,\n",
        "    step_size=2,\n",
        "    n_windows=14\n",
        "  )\n",
        "crossvaldation_df"
      ],
      "metadata": {
        "id": "4vsiml3bTMN2"
      },
      "execution_count": null,
      "outputs": []
    },
    {
      "cell_type": "code",
      "source": [
        "# Filter the dataset to only include the desired oil product categories\n",
        "df_filtered = df1[df1['PRODUCT_GROUP_CODE'].isin(['GAS', 'DSL', 'ADD'])]\n",
        "\n",
        "# Set the TIME column as the index\n",
        "df_filtered.set_index('START_TIME', inplace=True)\n",
        "\n",
        "# Plot the time series line graph\n",
        "df_filtered.plot(x='START_TIME', y='ORDERED_QUANTITY', kind='line')\n",
        "\n",
        "# Add axis labels\n",
        "plt.xlabel('Time')\n",
        "plt.ylabel('Ordered Quantity')\n",
        "\n",
        "# Display the plot\n",
        "plt.show()"
      ],
      "metadata": {
        "id": "F_6wr7v7GQ--"
      },
      "execution_count": null,
      "outputs": []
    },
    {
      "cell_type": "code",
      "source": [],
      "metadata": {
        "id": "m8MCQgQTJSqb"
      },
      "execution_count": null,
      "outputs": []
    }
  ]
}